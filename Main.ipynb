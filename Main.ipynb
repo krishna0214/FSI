{
 "cells": [
  {
   "cell_type": "code",
   "execution_count": 8,
   "metadata": {},
   "outputs": [
    {
     "data": {
      "application/vnd.jupyter.widget-view+json": {
       "model_id": "a4099fdf921e47efb184c5a40a3fb69b",
       "version_major": 2,
       "version_minor": 0
      },
      "text/plain": [
       "interactive(children=(FloatSlider(value=0.0001, description='dt:', max=0.001, min=0.0001, step=0.0001), FloatS…"
      ]
     },
     "metadata": {},
     "output_type": "display_data"
    },
    {
     "data": {
      "text/plain": [
       "<function __main__.update_plot(dt, dx)>"
      ]
     },
     "execution_count": 8,
     "metadata": {},
     "output_type": "execute_result"
    }
   ],
   "source": [
    "import numpy as np\n",
    "import os\n",
    "import time\n",
    "import math as mt\n",
    "import matplotlib.pyplot as plt\n",
    "from ipywidgets import interact, widgets\n",
    "from Modules.Momentum import Momentum\n",
    "from Modules.Pressure import Pressure_adjust\n",
    "from Update.Pressure_update import add\n",
    "from Modules.convergence import convergence\n",
    "from Plots.Plot import Graph_PV, plot\n",
    "from Plots.Velocity_plot import Graph_V, plot_V\n",
    "from Plots.Pressure_plot import Graph_P, plot_P\n",
    "\n",
    "# ... (your existing code)\n",
    "\n",
    "# Define a function to update the plot based on dt and dx\n",
    "def update_plot(dt, dx):\n",
    "    Total_time = 1\n",
    "    n = 1\n",
    "    rho = 996.550\n",
    "    g = 9.8\n",
    "    Grid_points = 100\n",
    "    Inletmassflux = 900\n",
    "    P_atm = 1\n",
    "    dia = 0.0154\n",
    "    d_vis = 0.000854\n",
    "    p_exit = P_atm * 101325\n",
    "    A = (mt.pi) * (dia**2) / 4\n",
    "    u_inlet = Inletmassflux / (rho)\n",
    "    length = 2\n",
    "\n",
    "\n",
    "    u_n = np.zeros(Grid_points)\n",
    "    p_star = np.zeros(Grid_points)\n",
    "    A_n = np.full((2 * Grid_points + 1), A)\n",
    "    perimeter = (mt.pi) * dia\n",
    "    p_s = np.full((2 * Grid_points + 1), perimeter)\n",
    "    dp = 128 * d_vis * length * A * u_inlet / ((mt.pi) * dia**4)\n",
    "\n",
    "    p_star[len(p_star) - 1] = p_exit\n",
    "    for i in range(len(p_star) - 2, -1, -1):\n",
    "        p_star[i] = p_star[i + 1] + ((dp * dx) / length)\n",
    "\n",
    "    u_n[0] = u_inlet\n",
    "    for i in range(1, len(u_n)):\n",
    "        u_n[i] = 0.01\n",
    "\n",
    "    def unsteady_1D_flow(A_n, A, u_n, p_star, p_s, Grid_points, rho, dx, dt, d_vis, n, u_inlet, p_exit):\n",
    "        Area = np.full((2 * Grid_points + 1), A)\n",
    "        for t in range(0, n):\n",
    "            start_time = time.time()\n",
    "            i = 0\n",
    "            while True:\n",
    "                u_star = Momentum(p_star, u_n, Grid_points, rho, dt, dx, d_vis, A_n, Area, p_s, u_inlet, p_exit)\n",
    "                converge1 = convergence(u_n, Grid_points, rho, Area, A_n, dx, dt)\n",
    "                converge = convergence(u_star, Grid_points, rho, Area, A_n, dx, dt)\n",
    "                if i > 0:\n",
    "                    break\n",
    "                p_add = Pressure_adjust(p_star, u_star, Grid_points, u_n, Area, A_n, p_s, rho, dx, dt, d_vis, u_inlet,p_exit)\n",
    "                p_star = add(p_star, p_add, Grid_points)\n",
    "                i = i + 1\n",
    "                elasp_time = time.time() - start_time\n",
    "                if elasp_time > 1000:\n",
    "                    break\n",
    "            u_n = u_star\n",
    "        return u_star, p_star\n",
    "\n",
    "    velocity, Pressure = unsteady_1D_flow(A_n, A, u_n, p_star, p_s, Grid_points, rho, dx, dt, d_vis, n, u_inlet, p_exit)\n",
    "\n",
    "    fig=plt.figure()\n",
    "    ax1=fig.add_subplot(211)\n",
    "    ax2=fig.add_subplot(212)\n",
    "    ax1.set_xlabel('Grid Points')\n",
    "    ax1.set_ylabel('u_star')\n",
    "    ax2.set_xlabel('Grid Points')\n",
    "    ax2.set_ylabel('p_star')\n",
    "    ax1.plot(velocity, label='Velocity')\n",
    "    ax2.plot(Pressure, label='Pressure')\n",
    "    plt.tight_layout()\n",
    "    plt.show()\n",
    "\n",
    "# Create interactive widgets for dt and dx\n",
    "dt_widget = widgets.FloatSlider(value=0.0001, min=0.0001, max=0.001, step=0.0001, description='dt:')\n",
    "dx_widget = widgets.FloatSlider(value=0.02, min=0.01, max=0.1, step=0.01, description='dx:')\n",
    "\n",
    "# Use interact to connect the widgets with the update_plot function\n",
    "interact(update_plot, dt=dt_widget, dx=dx_widget)\n"
   ]
  }
 ],
 "metadata": {
  "kernelspec": {
   "display_name": "Virtual1",
   "language": "python",
   "name": "python3"
  },
  "language_info": {
   "codemirror_mode": {
    "name": "ipython",
    "version": 3
   },
   "file_extension": ".py",
   "mimetype": "text/x-python",
   "name": "python",
   "nbconvert_exporter": "python",
   "pygments_lexer": "ipython3",
   "version": "3.12.0"
  }
 },
 "nbformat": 4,
 "nbformat_minor": 2
}
