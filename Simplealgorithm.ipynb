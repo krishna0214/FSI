{
 "cells": [
  {
   "cell_type": "code",
   "execution_count": 8,
   "metadata": {},
   "outputs": [],
   "source": [
    "import numpy as np\n",
    "import os \n",
    "from scipy.linalg import lu_factor, lu_solve"
   ]
  },
  {
   "cell_type": "code",
   "execution_count": 9,
   "metadata": {},
   "outputs": [],
   "source": [
    "def get_abc(Grid_points,rho,dt,dx,f,A,u,p_s):\n",
    "    b=np.ones((Grid_points))\n",
    "    a=np.ones((Grid_points))\n",
    "    c=np.ones((Grid_points-1))\n",
    "\n",
    "    for i in range (0,Grid_points):\n",
    "        a[i]=((rho*A[2*i]/dt)+(f*rho*u[i]*p_s[2*i]/8))\n",
    "        b[i]=((rho*A[2*i]/(2*dx)))\n",
    "        if i<Grid_points-1:\n",
    "            c[i]=(A[(2*i)+1]/dx)             \n",
    "    return a,b,c        \n",
    "def get_d(Grid_points,rho,A,u,dt):\n",
    "    d=np.ones((Grid_points))\n",
    "    for i in range(0,Grid_points):\n",
    "        d[i]=((rho*A[2*i]*u[i]/dt))  \n",
    "    return d             "
   ]
  },
  {
   "cell_type": "code",
   "execution_count": 10,
   "metadata": {},
   "outputs": [],
   "source": [
    "#for momentum equation final draft\n",
    "def solve_momentum(a, b, c, d, p_star):\n",
    "    \"\"\"\n",
    "    Calculate u_star vector using the provided inputs and matrix inversion.\n",
    "\n",
    "    Parameters:\n",
    "    a (numpy.ndarray): Coefficients a_{i+1/2}^{n+1}.\n",
    "    b (numpy.ndarray): Coefficients b_{i-1/2}^{n+1} & b_{i+3/2}^{n+1}.\n",
    "    c (numpy.ndarray): Coefficients c_i^{n+1}.\n",
    "    d (numpy.ndarray): Coefficients d_{i+1/2}^{n}.\n",
    "    p_star (numpy.ndarray): Guessed pressure vector.\n",
    "\n",
    "    Returns:\n",
    "    u_star (numpy.ndarray): Calculated u_star vector.\n",
    "    \"\"\"\n",
    "    #len of p_star is equal to length of a-1;\n",
    "    # Calculate the size of the system (number of equations)\n",
    "    n = len(a)\n",
    "    x=1\n",
    "    y=1\n",
    "    if n>2:\n",
    "        # Initialize the coefficient matrix A and the right-hand side vector b\n",
    "        A = np.zeros((n-2, n))\n",
    "        u_star=np.zeros((n,1))\n",
    "        Rhs=np.zeros((n-2,1))\n",
    "        # Populate the coefficient matrix and the right-hand side vector\n",
    "        for i in range(1,n-1):\n",
    "            A[i-1, i-1] =b[i-1]\n",
    "            A[i-1,i] = (-1*a[i])\n",
    "            A[i-1,i+1]=b[i+1]\n",
    "            const = ((c[i] * p_star[i]) - (c[i-1] * p_star[i-1]) - d[i])\n",
    "            Rhs[i-1,0]=const\n",
    "    return A,Rhs    "
   ]
  },
  {
   "cell_type": "code",
   "execution_count": 11,
   "metadata": {},
   "outputs": [],
   "source": [
    "#pressure correction coefficients:\n",
    "def get(Grid_points,u,u_star,A,p_s,rho,dx,dt,f):\n",
    "    alpha=np.ones(Grid_points-1)\n",
    "    beta=np.ones(Grid_points-1)\n",
    "    gama=np.ones(Grid_points-1)\n",
    "    z=np.ones(Grid_points-1)\n",
    "    if (Grid_points>3): \n",
    "        for i in range(3,(2*Grid_points)-3,2):\n",
    "            a_prev=(rho*A[i-1]/dx)\n",
    "            b_prev=(rho*A[i-1]/dt)\n",
    "            c_prev=(f*rho*u[(i-1)//2]*p_s[i-1]/8) \n",
    "            a_after=(rho*A[i+1]/dx)\n",
    "            b_after=(rho*A[i+1]/dt)\n",
    "            c_after=(f*rho*u[(i+1)//2]*p_s[i+1]/8)\n",
    "            gama1=(a_prev/(b_prev+c_prev))\n",
    "            beta1=(a_after/(b_after+c_after))\n",
    "            beta[i-3]=beta1*(A[i+2]/dx)\n",
    "            gama[i-3]=gama1*(A[i-2]/dx)\n",
    "            alpha[i-3]=(beta1+gama1)*(A[i]/dx)\n",
    "            z[i-3]=(((rho*A[i-1]/dx)*(u_star[(i-1)//2]))-((rho*A[i+1]/dx)*(u_star[(i+1)//2]))+(((rho*A[i])-(rho*A[i]))/dt))\n",
    "    return alpha,gama,beta,z\n"
   ]
  },
  {
   "cell_type": "code",
   "execution_count": 12,
   "metadata": {},
   "outputs": [],
   "source": [
    "def correct_pressure(Grid_points,alpha,beta,gama,z):\n",
    "    \"\"\"\n",
    "    Calculate P' vector using the provided inputs and matrix inversion.\n",
    "\n",
    "    Parameters:\n",
    "    alpha (numpy.ndarray): Coefficients a_{i+1/2}^{n+1}.\n",
    "    beta (numpy.ndarray): Coefficients b_{i-1/2}^{n+1} & b_{i+3/2}^{n+1}.\n",
    "    gama (numpy.ndarray): Coefficients c_i^{n+1}.\n",
    "    z(numpy.ndarray): Coefficients d_{i+1/2}^{n}.\n",
    "\n",
    "    Returns:\n",
    "    p' (numpy.ndarray): Calculated p'(It is the value of p that has to be added) vector.\n",
    "    \"\"\"\n",
    "    n=Grid_points\n",
    "    A = np.zeros((n-2, n))\n",
    "    p_adjust=np.zeros((n-2,n))\n",
    "    Rhs1=np.zeros((n-2,1))\n",
    "    #populate the coefficent matrix\n",
    "    for i in range(1,n-1):\n",
    "        A[i-1,i-1] = gama[i-1]\n",
    "        A[i-1,i] = (-1*alpha[i-1])\n",
    "        A[i-1,i+1]= (beta[i-1])\n",
    "        const = z[i-1]\n",
    "        Rhs1[i-1,0]=const\n",
    "    return A,Rhs1\n",
    "\n",
    "    \n",
    "    "
   ]
  },
  {
   "cell_type": "code",
   "execution_count": 13,
   "metadata": {},
   "outputs": [],
   "source": [
    "# main algo\n",
    "def unsteady_1D_flow(A,u,p_star,p_s,Grid_points,rho,dx,dt,f):\n",
    "    for t in range(0,n):\n",
    "\n",
    "\n",
    "    #Mometum equation part \n",
    "        a_values,b_values,c_values=get_abc(Grid_points,rho,dt,dx,f,A,u,p_s)#solve co-efficients at all grid points\n",
    "        d_values=get_d(Grid_points,rho,A,u,dt)\n",
    "        u_star1= solve_momentum(a_values, b_values, c_values, d_values, p_star)# Solve momentum equation to find intermediate velocity (u_star)\n",
    "    #Pressure Adjusted part\n",
    "        alpha,beta,gama,z=get(Grid_points,u,u_star,A,p_s,rho,dx,dt,f) \n",
    "        p_correct=correct_pressure(Grid_points,alpha,beta,gama,z)#Solve pressure correction equation      \n",
    "    return u_star1"
   ]
  },
  {
   "cell_type": "code",
   "execution_count": 14,
   "metadata": {},
   "outputs": [
    {
     "name": "stdout",
     "output_type": "stream",
     "text": [
      "[[-100.]\n",
      " [-100.]\n",
      " [-100.]]\n",
      "[1. 1. 1. 1. 1.]\n"
     ]
    }
   ],
   "source": [
    "# Define constants and parameters\n",
    "n = 1  # Number of time steps\n",
    "L = 1.0  # Length of the 1D domain\n",
    "dx = 0.01 # Spatial grid size\n",
    "dt = 0.01  # Time step size\n",
    "rho = 1.0 # Density\n",
    "A = 1.0 # Cross-sectional area\n",
    "f = 1.0   # Source term\n",
    "p_s = 1.0  # Viscosity\n",
    "g = 10.0   # Gravitational acceleration\n",
    "Grid_points=5 #Total number of grid points \n",
    "\n",
    "# Initialize arrays for velocity (u) and pressure (p) at staggered grid locations\n",
    "u = np.ones(Grid_points)  # Velocity at staggered grid locations\n",
    "p_star = np.ones(Grid_points-1) # Pressure at cell centers\n",
    "A=np.ones((2*Grid_points)-1)\n",
    "p_s=np.ones((2*Grid_points)-1)\n",
    "u_star= np.ones(Grid_points)\n",
    "\n",
    "\n",
    "velocity,pressure =unsteady_1D_flow(A,u,p_star,p_s,Grid_points,rho,dx,dt,f)\n",
    "print(pressure)\n",
    "print(u_star)\n",
    "\n",
    "\n",
    "\n",
    "\n",
    "\n"
   ]
  }
 ],
 "metadata": {
  "kernelspec": {
   "display_name": "Virtual1",
   "language": "python",
   "name": "python3"
  },
  "language_info": {
   "codemirror_mode": {
    "name": "ipython",
    "version": 3
   },
   "file_extension": ".py",
   "mimetype": "text/x-python",
   "name": "python",
   "nbconvert_exporter": "python",
   "pygments_lexer": "ipython3",
   "version": "3.11.4"
  },
  "orig_nbformat": 4
 },
 "nbformat": 4,
 "nbformat_minor": 2
}
